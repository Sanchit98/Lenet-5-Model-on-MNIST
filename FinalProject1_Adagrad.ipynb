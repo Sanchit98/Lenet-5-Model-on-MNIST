{
  "nbformat": 4,
  "nbformat_minor": 0,
  "metadata": {
    "colab": {
      "provenance": []
    },
    "kernelspec": {
      "name": "python3",
      "display_name": "Python 3"
    },
    "language_info": {
      "name": "python"
    }
  },
  "cells": [
    {
      "cell_type": "markdown",
      "source": [
        "#Imports"
      ],
      "metadata": {
        "id": "wGqzSnFlw5Pp"
      }
    },
    {
      "cell_type": "code",
      "execution_count": null,
      "metadata": {
        "id": "U_KbP4edwdBV"
      },
      "outputs": [],
      "source": [
        "import matplotlib as plt\n",
        "import matplotlib.pyplot as pt\n",
        "import tensorflow as tf\n",
        "import numpy as np\n",
        "from sklearn.metrics import confusion_matrix\n",
        "import seaborn as sns"
      ]
    },
    {
      "cell_type": "markdown",
      "source": [
        "#Loading the dataset"
      ],
      "metadata": {
        "id": "2UYy0jNpw7uP"
      }
    },
    {
      "cell_type": "code",
      "source": [
        "mnist = tf.keras.datasets.mnist\n",
        "(x_train, y_train), (x_test, y_test) = mnist.load_data()\n",
        "rows, cols = 28, 28"
      ],
      "metadata": {
        "id": "JvZgzjJvw9Cr"
      },
      "execution_count": null,
      "outputs": []
    },
    {
      "cell_type": "code",
      "source": [
        "x_train = x_train.reshape(x_train.shape[0], rows, cols, 1)\n",
        "x_test = x_test.reshape(x_test.shape[0], rows, cols, 1)\n",
        "input_shape = (rows, cols, 1)"
      ],
      "metadata": {
        "id": "ilRUR0bmxeaS"
      },
      "execution_count": null,
      "outputs": []
    },
    {
      "cell_type": "markdown",
      "source": [
        "#Visualising the Dataset"
      ],
      "metadata": {
        "id": "zp_qXArqaxg5"
      }
    },
    {
      "cell_type": "code",
      "source": [
        "num_classes = 10\n",
        "f, ax = pt.subplots(1, num_classes, figsize=(20,20))\n",
        "\n",
        "for i in range(0, num_classes):\n",
        "  sample = x_train[y_train == i][0]\n",
        "  ax[i].imshow(sample, cmap='gray')\n",
        "  ax[i].set_title(\"Label: {}\".format(i), fontsize=16)"
      ],
      "metadata": {
        "colab": {
          "base_uri": "https://localhost:8080/",
          "height": 181
        },
        "id": "u6ULNXnta8Th",
        "outputId": "9b9c0ab4-c30e-4599-959a-726d23bcd6d6"
      },
      "execution_count": null,
      "outputs": [
        {
          "output_type": "display_data",
          "data": {
            "text/plain": [
              "<Figure size 2000x2000 with 10 Axes>"
            ],
            "image/png": "[encoded data removed]"
          },
          "metadata": {}
        }
      ]
    },
    {
      "cell_type": "markdown",
      "source": [
        "#Preprocessing the data"
      ],
      "metadata": {
        "id": "_aKPRxgfxoOX"
      }
    },
    {
      "cell_type": "markdown",
      "source": [
        "a). Normalization"
      ],
      "metadata": {
        "id": "-JjQiE4nx4kC"
      }
    },
    {
      "cell_type": "code",
      "source": [
        "x_train = x_train.astype('float32')\n",
        "x_test = x_test.astype('float32')\n",
        "x_train = x_train / 255.0\n",
        "x_test = x_test / 255.0"
      ],
      "metadata": {
        "id": "-7qaqAp_xjyH"
      },
      "execution_count": null,
      "outputs": []
    },
    {
      "cell_type": "markdown",
      "source": [
        "b). One hot encoding"
      ],
      "metadata": {
        "id": "2yb-zzBhx7Mx"
      }
    },
    {
      "cell_type": "code",
      "source": [
        "y_train = tf.keras.utils.to_categorical(y_train, 10)\n",
        "y_test = tf.keras.utils.to_categorical(y_test, 10)"
      ],
      "metadata": {
        "id": "Ijkl2zWCx8ni"
      },
      "execution_count": null,
      "outputs": []
    },
    {
      "cell_type": "markdown",
      "source": [
        "#Building the model"
      ],
      "metadata": {
        "id": "qLhCAKpayT8t"
      }
    },
    {
      "cell_type": "code",
      "source": [
        "model = tf.keras.Sequential()\n",
        "\n",
        "def build_lenet(input_shape):\n",
        "\n",
        "  #Convolution layer 1\n",
        "  model.add(tf.keras.layers.Conv2D(filters = 6,\n",
        "                                   kernel_size = (5,5),\n",
        "                                   strides = (1,1),\n",
        "                                   activation = 'tanh',\n",
        "                                   input_shape = input_shape))\n",
        "  \n",
        "  #Subsampling layer 1\n",
        "  model.add(tf.keras.layers.AveragePooling2D(pool_size = (2,2),\n",
        "                                             strides = (2,2)))\n",
        "  \n",
        "  #Convolution layer 2\n",
        "  model.add(tf.keras.layers.Conv2D(filters = 16,\n",
        "                                   kernel_size = (5,5),\n",
        "                                   strides = (1,1),\n",
        "                                   activation = 'tanh'))\n",
        "  \n",
        "  #Subsampling layer 2\n",
        "  model.add(tf.keras.layers.AveragePooling2D(pool_size = (2,2),\n",
        "                                             strides = (2,2)))\n",
        "  \n",
        "  #Flattening layer\n",
        "  model.add(tf.keras.layers.Flatten())\n",
        "\n",
        "  #Fully connected layer 1\n",
        "  model.add(tf.keras.layers.Dense(units = 120, activation = 'tanh'))\n",
        "\n",
        "  #Flattening layer\n",
        "  model.add(tf.keras.layers.Flatten())\n",
        "\n",
        "  #Fully connected layer 2\n",
        "  model.add(tf.keras.layers.Dense(units = 84, activation = 'tanh'))\n",
        "\n",
        "  #Output layer\n",
        "  model.add(tf.keras.layers.Dense( units = 10, activation = 'softmax'))\n",
        "\n",
        "  #Compile the model\n",
        "  model.compile(loss = 'categorical_crossentropy', optimizer = tf.keras.optimizers.Adagrad(learning_rate = 0.001), metrics = ['accuracy'])\n",
        "\n",
        "  #Summarizing the model\n",
        "  model.summary()\n",
        "\n",
        "  return model"
      ],
      "metadata": {
        "id": "FM8aUGIpyRFJ"
      },
      "execution_count": null,
      "outputs": []
    },
    {
      "cell_type": "code",
      "source": [
        "lenet = build_lenet(input_shape)"
      ],
      "metadata": {
        "colab": {
          "base_uri": "https://localhost:8080/"
        },
        "id": "vje_6wPn0uJB",
        "outputId": "f6569602-7e1d-4b8a-cd3d-7336670c1c2d"
      },
      "execution_count": null,
      "outputs": [
        {
          "output_type": "stream",
          "name": "stdout",
          "text": [
            "Model: \"sequential\"\n",
            "_________________________________________________________________\n",
            " Layer (type)                Output Shape              Param #   \n",
            "=================================================================\n",
            " conv2d (Conv2D)             (None, 24, 24, 6)         156       \n",
            "                                                                 \n",
            " average_pooling2d (AverageP  (None, 12, 12, 6)        0         \n",
            " ooling2D)                                                       \n",
            "                                                                 \n",
            " conv2d_1 (Conv2D)           (None, 8, 8, 16)          2416      \n",
            "                                                                 \n",
            " average_pooling2d_1 (Averag  (None, 4, 4, 16)         0         \n",
            " ePooling2D)                                                     \n",
            "                                                                 \n",
            " flatten (Flatten)           (None, 256)               0         \n",
            "                                                                 \n",
            " dense (Dense)               (None, 120)               30840     \n",
            "                                                                 \n",
            " flatten_1 (Flatten)         (None, 120)               0         \n",
            "                                                                 \n",
            " dense_1 (Dense)             (None, 84)                10164     \n",
            "                                                                 \n",
            " dense_2 (Dense)             (None, 10)                850       \n",
            "                                                                 \n",
            "=================================================================\n",
            "Total params: 44,426\n",
            "Trainable params: 44,426\n",
            "Non-trainable params: 0\n",
            "_________________________________________________________________\n"
          ]
        }
      ]
    },
    {
      "cell_type": "markdown",
      "source": [
        "#Training the model"
      ],
      "metadata": {
        "id": "KBOLuZgU16j3"
      }
    },
    {
      "cell_type": "code",
      "source": [
        "epochs = 50"
      ],
      "metadata": {
        "id": "0c6m3GB218BU"
      },
      "execution_count": null,
      "outputs": []
    },
    {
      "cell_type": "code",
      "source": [
        "history = model.fit(x_train, y_train,\n",
        "                    epochs = epochs,\n",
        "                    batch_size = 128,\n",
        "                    verbose = 1)"
      ],
      "metadata": {
        "colab": {
          "base_uri": "https://localhost:8080/"
        },
        "id": "gJVP9YwX2I1E",
        "outputId": "dff8257d-b233-49cf-89b5-a247da4aadb6"
      },
      "execution_count": null,
      "outputs": [
        {
          "output_type": "stream",
          "name": "stdout",
          "text": [
            "Epoch 1/50\n",
            "469/469 [==============================] - 30s 61ms/step - loss: 2.0024 - accuracy: 0.4570\n",
            "Epoch 2/50\n",
            "469/469 [==============================] - 26s 55ms/step - loss: 1.2734 - accuracy: 0.7218\n",
            "Epoch 3/50\n",
            "469/469 [==============================] - 26s 55ms/step - loss: 0.8759 - accuracy: 0.8027\n",
            "Epoch 4/50\n",
            "469/469 [==============================] - 26s 55ms/step - loss: 0.7021 - accuracy: 0.8341\n",
            "Epoch 5/50\n",
            "469/469 [==============================] - 27s 57ms/step - loss: 0.6080 - accuracy: 0.8494\n",
            "Epoch 6/50\n",
            "469/469 [==============================] - 26s 56ms/step - loss: 0.5480 - accuracy: 0.8601\n",
            "Epoch 7/50\n",
            "469/469 [==============================] - 26s 55ms/step - loss: 0.5057 - accuracy: 0.8684\n",
            "Epoch 8/50\n",
            "469/469 [==============================] - 26s 55ms/step - loss: 0.4740 - accuracy: 0.8749\n",
            "Epoch 9/50\n",
            "469/469 [==============================] - 25s 53ms/step - loss: 0.4492 - accuracy: 0.8798\n",
            "Epoch 10/50\n",
            "469/469 [==============================] - 25s 53ms/step - loss: 0.4291 - accuracy: 0.8839\n",
            "Epoch 11/50\n",
            "469/469 [==============================] - 26s 55ms/step - loss: 0.4125 - accuracy: 0.8878\n",
            "Epoch 12/50\n",
            "469/469 [==============================] - 26s 55ms/step - loss: 0.3984 - accuracy: 0.8907\n",
            "Epoch 13/50\n",
            "469/469 [==============================] - 26s 55ms/step - loss: 0.3863 - accuracy: 0.8935\n",
            "Epoch 14/50\n",
            "469/469 [==============================] - 26s 55ms/step - loss: 0.3757 - accuracy: 0.8958\n",
            "Epoch 15/50\n",
            "469/469 [==============================] - 26s 54ms/step - loss: 0.3663 - accuracy: 0.8985\n",
            "Epoch 16/50\n",
            "469/469 [==============================] - 26s 55ms/step - loss: 0.3580 - accuracy: 0.8998\n",
            "Epoch 17/50\n",
            "469/469 [==============================] - 26s 55ms/step - loss: 0.3503 - accuracy: 0.9017\n",
            "Epoch 18/50\n",
            "469/469 [==============================] - 25s 54ms/step - loss: 0.3434 - accuracy: 0.9031\n",
            "Epoch 19/50\n",
            "469/469 [==============================] - 25s 53ms/step - loss: 0.3369 - accuracy: 0.9048\n",
            "Epoch 20/50\n",
            "469/469 [==============================] - 26s 55ms/step - loss: 0.3309 - accuracy: 0.9063\n",
            "Epoch 21/50\n",
            "469/469 [==============================] - 26s 55ms/step - loss: 0.3254 - accuracy: 0.9079\n",
            "Epoch 22/50\n",
            "469/469 [==============================] - 26s 55ms/step - loss: 0.3201 - accuracy: 0.9091\n",
            "Epoch 23/50\n",
            "469/469 [==============================] - 26s 55ms/step - loss: 0.3152 - accuracy: 0.9105\n",
            "Epoch 24/50\n",
            "469/469 [==============================] - 26s 55ms/step - loss: 0.3105 - accuracy: 0.9113\n",
            "Epoch 25/50\n",
            "469/469 [==============================] - 26s 55ms/step - loss: 0.3061 - accuracy: 0.9124\n",
            "Epoch 26/50\n",
            "469/469 [==============================] - 26s 55ms/step - loss: 0.3018 - accuracy: 0.9139\n",
            "Epoch 27/50\n",
            "469/469 [==============================] - 26s 55ms/step - loss: 0.2978 - accuracy: 0.9146\n",
            "Epoch 28/50\n",
            "469/469 [==============================] - 25s 52ms/step - loss: 0.2938 - accuracy: 0.9161\n",
            "Epoch 29/50\n",
            "469/469 [==============================] - 26s 54ms/step - loss: 0.2902 - accuracy: 0.9167\n",
            "Epoch 30/50\n",
            "469/469 [==============================] - 26s 55ms/step - loss: 0.2866 - accuracy: 0.9180\n",
            "Epoch 31/50\n",
            "469/469 [==============================] - 26s 55ms/step - loss: 0.2831 - accuracy: 0.9187\n",
            "Epoch 32/50\n",
            "469/469 [==============================] - 26s 55ms/step - loss: 0.2798 - accuracy: 0.9191\n",
            "Epoch 33/50\n",
            "469/469 [==============================] - 26s 55ms/step - loss: 0.2765 - accuracy: 0.9201\n",
            "Epoch 34/50\n",
            "469/469 [==============================] - 26s 55ms/step - loss: 0.2735 - accuracy: 0.9210\n",
            "Epoch 35/50\n",
            "469/469 [==============================] - 26s 55ms/step - loss: 0.2705 - accuracy: 0.9217\n",
            "Epoch 36/50\n",
            "469/469 [==============================] - 26s 55ms/step - loss: 0.2675 - accuracy: 0.9225\n",
            "Epoch 37/50\n",
            "469/469 [==============================] - 26s 55ms/step - loss: 0.2647 - accuracy: 0.9233\n",
            "Epoch 38/50\n",
            "469/469 [==============================] - 25s 53ms/step - loss: 0.2619 - accuracy: 0.9240\n",
            "Epoch 39/50\n",
            "469/469 [==============================] - 25s 54ms/step - loss: 0.2593 - accuracy: 0.9247\n",
            "Epoch 40/50\n",
            "469/469 [==============================] - 26s 55ms/step - loss: 0.2567 - accuracy: 0.9252\n",
            "Epoch 41/50\n",
            "469/469 [==============================] - 26s 55ms/step - loss: 0.2541 - accuracy: 0.9257\n",
            "Epoch 42/50\n",
            "469/469 [==============================] - 26s 55ms/step - loss: 0.2517 - accuracy: 0.9266\n",
            "Epoch 43/50\n",
            "469/469 [==============================] - 26s 55ms/step - loss: 0.2492 - accuracy: 0.9274\n",
            "Epoch 44/50\n",
            "469/469 [==============================] - 26s 55ms/step - loss: 0.2469 - accuracy: 0.9279\n",
            "Epoch 45/50\n",
            "469/469 [==============================] - 26s 55ms/step - loss: 0.2446 - accuracy: 0.9290\n",
            "Epoch 46/50\n",
            "469/469 [==============================] - 26s 55ms/step - loss: 0.2424 - accuracy: 0.9293\n",
            "Epoch 47/50\n",
            "469/469 [==============================] - 25s 54ms/step - loss: 0.2402 - accuracy: 0.9301\n",
            "Epoch 48/50\n",
            "469/469 [==============================] - 25s 53ms/step - loss: 0.2381 - accuracy: 0.9306\n",
            "Epoch 49/50\n",
            "469/469 [==============================] - 26s 55ms/step - loss: 0.2360 - accuracy: 0.9312\n",
            "Epoch 50/50\n",
            "469/469 [==============================] - 26s 55ms/step - loss: 0.2340 - accuracy: 0.9316\n"
          ]
        }
      ]
    },
    {
      "cell_type": "markdown",
      "source": [
        "#Testing the model"
      ],
      "metadata": {
        "id": "R6R5aRwe4u98"
      }
    },
    {
      "cell_type": "code",
      "source": [
        "loss, acc = lenet.evaluate(x_test, y_test)\n",
        "print('ACCURACY: ', acc)"
      ],
      "metadata": {
        "colab": {
          "base_uri": "https://localhost:8080/"
        },
        "id": "UpixyiAs2Z6k",
        "outputId": "e51fbb7e-500b-44ff-ce15-f4ddbc1523ff"
      },
      "execution_count": null,
      "outputs": [
        {
          "output_type": "stream",
          "name": "stdout",
          "text": [
            "313/313 [==============================] - 3s 9ms/step - loss: 0.2236 - accuracy: 0.9350\n",
            "ACCURACY:  0.9350000023841858\n"
          ]
        }
      ]
    },
    {
      "cell_type": "markdown",
      "source": [
        "#One Example"
      ],
      "metadata": {
        "id": "x3Y64NqPOP9A"
      }
    },
    {
      "cell_type": "code",
      "source": [
        "y_pred = model.predict(x_test)\n",
        "y_pred_classes = np.argmax(y_pred, axis=1)\n",
        "print(y_pred)\n",
        "print(y_pred_classes)"
      ],
      "metadata": {
        "id": "bd0xOBB-fEeu",
        "colab": {
          "base_uri": "https://localhost:8080/"
        },
        "outputId": "37c564da-bcd1-44d6-b893-5ba0886eab30"
      },
      "execution_count": null,
      "outputs": [
        {
          "output_type": "stream",
          "name": "stdout",
          "text": [
            "313/313 [==============================] - 2s 7ms/step\n",
            "[[1.2841509e-04 2.1035443e-05 1.4095382e-04 ... 9.9774480e-01\n",
            "  2.0054882e-05 1.0802493e-03]\n",
            " [7.9799630e-03 5.2066320e-03 9.3093246e-01 ... 1.6121818e-06\n",
            "  1.1358217e-02 2.6716845e-05]\n",
            " [2.6372489e-05 9.9514693e-01 1.3621822e-03 ... 5.9325964e-04\n",
            "  7.1888557e-04 1.7299237e-04]\n",
            " ...\n",
            " [1.3482252e-04 8.2521525e-05 7.5484393e-05 ... 4.0429039e-03\n",
            "  8.9450656e-03 5.8668014e-02]\n",
            " [5.6622098e-03 1.8254354e-03 3.1903101e-04 ... 5.2646268e-05\n",
            "  1.1236116e-01 1.4574899e-04]\n",
            " [2.8240778e-03 4.1825457e-05 5.5808434e-03 ... 2.6581556e-06\n",
            "  4.8932410e-04 1.0065186e-04]]\n",
            "[7 2 1 ... 4 5 6]\n"
          ]
        }
      ]
    },
    {
      "cell_type": "code",
      "source": [
        "# Visualize for one example\n",
        "random_idx = np.random.choice(len(x_test))\n",
        "x_sample = x_test[random_idx]\n",
        "y_true = np.argmax(y_test, axis=1)\n",
        "y_sample_true = y_true[random_idx]\n",
        "y_sample_pred_class = y_pred_classes[random_idx]\n",
        "\n",
        "pt.title(\"Predicted: {}, True: {}\".format(y_sample_pred_class, y_sample_true), fontsize=16)\n",
        "pt.imshow(x_sample.reshape(28, 28), cmap='gray')"
      ],
      "metadata": {
        "id": "DcC1nTAsfHOS",
        "colab": {
          "base_uri": "https://localhost:8080/",
          "height": 472
        },
        "outputId": "ba8afa09-dcad-4db1-98a3-1f075485ec45"
      },
      "execution_count": null,
      "outputs": [
        {
          "output_type": "execute_result",
          "data": {
            "text/plain": [
              "<matplotlib.image.AxesImage at 0x7f250faaba00>"
            ]
          },
          "metadata": {},
          "execution_count": 13
        },
        {
          "output_type": "display_data",
          "data": {
            "text/plain": [
              "<Figure size 640x480 with 1 Axes>"
            ],
            "image/png": "[encoded data removed]"
          },
          "metadata": {}
        }
      ]
    },
    {
      "cell_type": "markdown",
      "source": [
        "#Confusion Matrix"
      ],
      "metadata": {
        "id": "1eIQjm-dORoL"
      }
    },
    {
      "cell_type": "code",
      "source": [
        "confusion_mtx = confusion_matrix(y_true, y_pred_classes)\n",
        "\n",
        "# Plot\n",
        "fig, ax = pt.subplots(figsize=(15,10))\n",
        "ax = sns.heatmap(confusion_mtx, annot=True, fmt='d', ax=ax, cmap=\"Blues\")\n",
        "ax.set_xlabel('Predicted Label')\n",
        "ax.set_ylabel('True Label')\n",
        "ax.set_title('Confusion Matrix');"
      ],
      "metadata": {
        "id": "0E65FJhzfKaY",
        "colab": {
          "base_uri": "https://localhost:8080/",
          "height": 872
        },
        "outputId": "3bc53218-1298-43c4-8546-b3d1dbfd021b"
      },
      "execution_count": null,
      "outputs": [
        {
          "output_type": "display_data",
          "data": {
            "text/plain": [
              "<Figure size 1500x1000 with 2 Axes>"
            ],
            "image/png": "[encoded data removed]"
          },
          "metadata": {}
        }
      ]
    },
    {
      "cell_type": "markdown",
      "source": [
        "#Tranformation/Reshaping into 28x28 pixel"
      ],
      "metadata": {
        "id": "drSYQLDC43Qa"
      }
    },
    {
      "cell_type": "code",
      "source": [
        "x_train = x_train.reshape(x_train.shape[0], 28, 28)\n",
        "print(\"Training Data \", x_train.shape, y_train.shape)\n",
        "x_test = x_test.reshape(x_test.shape[0], 28, 28)\n",
        "print(\"Testing Data \", x_train.shape, y_train.shape)"
      ],
      "metadata": {
        "colab": {
          "base_uri": "https://localhost:8080/"
        },
        "id": "zW8XfzZj2bW-",
        "outputId": "484099a1-3895-4726-9849-12c802ee1f9f"
      },
      "execution_count": null,
      "outputs": [
        {
          "output_type": "stream",
          "name": "stdout",
          "text": [
            "Training Data  (60000, 28, 28) (60000, 10)\n",
            "Testing Data  (60000, 28, 28) (60000, 10)\n"
          ]
        }
      ]
    }
  ]
}