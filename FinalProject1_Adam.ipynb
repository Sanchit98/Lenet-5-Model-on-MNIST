{
  "nbformat": 4,
  "nbformat_minor": 0,
  "metadata": {
    "colab": {
      "provenance": []
    },
    "kernelspec": {
      "name": "python3",
      "display_name": "Python 3"
    },
    "language_info": {
      "name": "python"
    }
  },
  "cells": [
    {
      "cell_type": "markdown",
      "source": [
        "#Imports"
      ],
      "metadata": {
        "id": "wGqzSnFlw5Pp"
      }
    },
    {
      "cell_type": "code",
      "execution_count": 1,
      "metadata": {
        "id": "U_KbP4edwdBV"
      },
      "outputs": [],
      "source": [
        "import matplotlib as plt\n",
        "import matplotlib.pyplot as pt\n",
        "import tensorflow as tf\n",
        "import numpy as np\n",
        "from sklearn.metrics import confusion_matrix\n",
        "import seaborn as sns"
      ]
    },
    {
      "cell_type": "markdown",
      "source": [
        "#Loading the dataset"
      ],
      "metadata": {
        "id": "2UYy0jNpw7uP"
      }
    },
    {
      "cell_type": "code",
      "source": [
        "mnist = tf.keras.datasets.mnist\n",
        "(x_train, y_train), (x_test, y_test) = mnist.load_data()\n",
        "rows, cols = 28, 28"
      ],
      "metadata": {
        "id": "JvZgzjJvw9Cr"
      },
      "execution_count": 2,
      "outputs": []
    },
    {
      "cell_type": "code",
      "source": [
        "x_train = x_train.reshape(x_train.shape[0], rows, cols, 1)\n",
        "x_test = x_test.reshape(x_test.shape[0], rows, cols, 1)\n",
        "input_shape = (rows, cols, 1)"
      ],
      "metadata": {
        "id": "ilRUR0bmxeaS"
      },
      "execution_count": 3,
      "outputs": []
    },
    {
      "cell_type": "markdown",
      "source": [
        "#Visualising the Dataset"
      ],
      "metadata": {
        "id": "zp_qXArqaxg5"
      }
    },
    {
      "cell_type": "code",
      "source": [
        "num_classes = 10\n",
        "f, ax = pt.subplots(1, num_classes, figsize=(20,20))\n",
        "\n",
        "for i in range(0, num_classes):\n",
        "  sample = x_train[y_train == i][0]\n",
        "  ax[i].imshow(sample, cmap='gray')\n",
        "  ax[i].set_title(\"Label: {}\".format(i), fontsize=16)"
      ],
      "metadata": {
        "colab": {
          "base_uri": "https://localhost:8080/",
          "height": 181
        },
        "id": "u6ULNXnta8Th",
        "outputId": "c03e9faf-38e4-4d5a-87eb-1b47b442b07c"
      },
      "execution_count": 4,
      "outputs": [
        {
          "output_type": "display_data",
          "data": {
            "text/plain": [
              "<Figure size 2000x2000 with 10 Axes>"
            ],
            "image/png": "[encoded data removed]"
          },
          "metadata": {}
        }
      ]
    },
    {
      "cell_type": "markdown",
      "source": [
        "#Preprocessing the data"
      ],
      "metadata": {
        "id": "_aKPRxgfxoOX"
      }
    },
    {
      "cell_type": "markdown",
      "source": [
        "a). Normalization"
      ],
      "metadata": {
        "id": "-JjQiE4nx4kC"
      }
    },
    {
      "cell_type": "code",
      "source": [
        "x_train = x_train.astype('float32')\n",
        "x_test = x_test.astype('float32')\n",
        "x_train = x_train / 255.0\n",
        "x_test = x_test / 255.0"
      ],
      "metadata": {
        "id": "-7qaqAp_xjyH"
      },
      "execution_count": 5,
      "outputs": []
    },
    {
      "cell_type": "markdown",
      "source": [
        "b). One hot encoding"
      ],
      "metadata": {
        "id": "2yb-zzBhx7Mx"
      }
    },
    {
      "cell_type": "code",
      "source": [
        "y_train = tf.keras.utils.to_categorical(y_train, 10)\n",
        "y_test = tf.keras.utils.to_categorical(y_test, 10)"
      ],
      "metadata": {
        "id": "Ijkl2zWCx8ni"
      },
      "execution_count": 6,
      "outputs": []
    },
    {
      "cell_type": "markdown",
      "source": [
        "#Building the model"
      ],
      "metadata": {
        "id": "qLhCAKpayT8t"
      }
    },
    {
      "cell_type": "code",
      "source": [
        "model = tf.keras.Sequential()\n",
        "\n",
        "def build_lenet(input_shape):\n",
        "\n",
        "  #Convolution layer 1\n",
        "  model.add(tf.keras.layers.Conv2D(filters = 6,\n",
        "                                   kernel_size = (5,5),\n",
        "                                   strides = (1,1),\n",
        "                                   activation = 'tanh',\n",
        "                                   input_shape = input_shape))\n",
        "  \n",
        "  #Subsampling layer 1\n",
        "  model.add(tf.keras.layers.AveragePooling2D(pool_size = (2,2),\n",
        "                                             strides = (2,2)))\n",
        "  \n",
        "  #Convolution layer 2\n",
        "  model.add(tf.keras.layers.Conv2D(filters = 16,\n",
        "                                   kernel_size = (5,5),\n",
        "                                   strides = (1,1),\n",
        "                                   activation = 'tanh'))\n",
        "  \n",
        "  #Subsampling layer 2\n",
        "  model.add(tf.keras.layers.AveragePooling2D(pool_size = (2,2),\n",
        "                                             strides = (2,2)))\n",
        "  \n",
        "  #Flattening layer\n",
        "  model.add(tf.keras.layers.Flatten())\n",
        "\n",
        "  #Fully connected layer 1\n",
        "  model.add(tf.keras.layers.Dense(units = 120, activation = 'tanh'))\n",
        "\n",
        "  #Flattening layer\n",
        "  model.add(tf.keras.layers.Flatten())\n",
        "\n",
        "  #Fully connected layer 2\n",
        "  model.add(tf.keras.layers.Dense(units = 84, activation = 'tanh'))\n",
        "\n",
        "  #Output layer\n",
        "  model.add(tf.keras.layers.Dense( units = 10, activation = 'softmax'))\n",
        "\n",
        "  #Compile the model\n",
        "  model.compile(loss = 'categorical_crossentropy', optimizer = tf.keras.optimizers.Adam(learning_rate = 0.001), metrics = ['accuracy'])\n",
        "\n",
        "  #Summarizing the model\n",
        "  model.summary()\n",
        "\n",
        "  return model"
      ],
      "metadata": {
        "id": "FM8aUGIpyRFJ"
      },
      "execution_count": 7,
      "outputs": []
    },
    {
      "cell_type": "code",
      "source": [
        "lenet = build_lenet(input_shape)"
      ],
      "metadata": {
        "colab": {
          "base_uri": "https://localhost:8080/"
        },
        "id": "vje_6wPn0uJB",
        "outputId": "fdb38d3f-9b69-4466-a805-17b6cec83c4b"
      },
      "execution_count": 8,
      "outputs": [
        {
          "output_type": "stream",
          "name": "stdout",
          "text": [
            "Model: \"sequential\"\n",
            "_________________________________________________________________\n",
            " Layer (type)                Output Shape              Param #   \n",
            "=================================================================\n",
            " conv2d (Conv2D)             (None, 24, 24, 6)         156       \n",
            "                                                                 \n",
            " average_pooling2d (AverageP  (None, 12, 12, 6)        0         \n",
            " ooling2D)                                                       \n",
            "                                                                 \n",
            " conv2d_1 (Conv2D)           (None, 8, 8, 16)          2416      \n",
            "                                                                 \n",
            " average_pooling2d_1 (Averag  (None, 4, 4, 16)         0         \n",
            " ePooling2D)                                                     \n",
            "                                                                 \n",
            " flatten (Flatten)           (None, 256)               0         \n",
            "                                                                 \n",
            " dense (Dense)               (None, 120)               30840     \n",
            "                                                                 \n",
            " flatten_1 (Flatten)         (None, 120)               0         \n",
            "                                                                 \n",
            " dense_1 (Dense)             (None, 84)                10164     \n",
            "                                                                 \n",
            " dense_2 (Dense)             (None, 10)                850       \n",
            "                                                                 \n",
            "=================================================================\n",
            "Total params: 44,426\n",
            "Trainable params: 44,426\n",
            "Non-trainable params: 0\n",
            "_________________________________________________________________\n"
          ]
        }
      ]
    },
    {
      "cell_type": "markdown",
      "source": [
        "#Training the model"
      ],
      "metadata": {
        "id": "KBOLuZgU16j3"
      }
    },
    {
      "cell_type": "code",
      "source": [
        "epochs = 50"
      ],
      "metadata": {
        "id": "0c6m3GB218BU"
      },
      "execution_count": 9,
      "outputs": []
    },
    {
      "cell_type": "code",
      "source": [
        "history = model.fit(x_train, y_train,\n",
        "                    epochs = epochs,\n",
        "                    batch_size = 128,\n",
        "                    verbose = 1)"
      ],
      "metadata": {
        "colab": {
          "base_uri": "https://localhost:8080/"
        },
        "id": "gJVP9YwX2I1E",
        "outputId": "5b73921f-1608-483b-a03b-35ce107f4549"
      },
      "execution_count": 10,
      "outputs": [
        {
          "output_type": "stream",
          "name": "stdout",
          "text": [
            "Epoch 1/50\n",
            "469/469 [==============================] - 38s 71ms/step - loss: 0.3451 - accuracy: 0.9034\n",
            "Epoch 2/50\n",
            "469/469 [==============================] - 26s 55ms/step - loss: 0.1216 - accuracy: 0.9626\n",
            "Epoch 3/50\n",
            "469/469 [==============================] - 26s 56ms/step - loss: 0.0809 - accuracy: 0.9748\n",
            "Epoch 4/50\n",
            "469/469 [==============================] - 28s 59ms/step - loss: 0.0591 - accuracy: 0.9817\n",
            "Epoch 5/50\n",
            "469/469 [==============================] - 26s 55ms/step - loss: 0.0488 - accuracy: 0.9848\n",
            "Epoch 6/50\n",
            "469/469 [==============================] - 26s 55ms/step - loss: 0.0391 - accuracy: 0.9878\n",
            "Epoch 7/50\n",
            "469/469 [==============================] - 26s 55ms/step - loss: 0.0342 - accuracy: 0.9889\n",
            "Epoch 8/50\n",
            "469/469 [==============================] - 25s 54ms/step - loss: 0.0286 - accuracy: 0.9911\n",
            "Epoch 9/50\n",
            "469/469 [==============================] - 25s 53ms/step - loss: 0.0252 - accuracy: 0.9921\n",
            "Epoch 10/50\n",
            "469/469 [==============================] - 26s 54ms/step - loss: 0.0214 - accuracy: 0.9933\n",
            "Epoch 11/50\n",
            "469/469 [==============================] - 26s 55ms/step - loss: 0.0191 - accuracy: 0.9937\n",
            "Epoch 12/50\n",
            "469/469 [==============================] - 26s 55ms/step - loss: 0.0148 - accuracy: 0.9952\n",
            "Epoch 13/50\n",
            "469/469 [==============================] - 26s 55ms/step - loss: 0.0147 - accuracy: 0.9955\n",
            "Epoch 14/50\n",
            "469/469 [==============================] - 26s 55ms/step - loss: 0.0125 - accuracy: 0.9961\n",
            "Epoch 15/50\n",
            "469/469 [==============================] - 26s 55ms/step - loss: 0.0101 - accuracy: 0.9968\n",
            "Epoch 16/50\n",
            "469/469 [==============================] - 26s 55ms/step - loss: 0.0087 - accuracy: 0.9973\n",
            "Epoch 17/50\n",
            "469/469 [==============================] - 26s 55ms/step - loss: 0.0084 - accuracy: 0.9974\n",
            "Epoch 18/50\n",
            "469/469 [==============================] - 25s 54ms/step - loss: 0.0065 - accuracy: 0.9983\n",
            "Epoch 19/50\n",
            "469/469 [==============================] - 25s 53ms/step - loss: 0.0061 - accuracy: 0.9983\n",
            "Epoch 20/50\n",
            "469/469 [==============================] - 26s 55ms/step - loss: 0.0081 - accuracy: 0.9975\n",
            "Epoch 21/50\n",
            "469/469 [==============================] - 26s 55ms/step - loss: 0.0055 - accuracy: 0.9983\n",
            "Epoch 22/50\n",
            "469/469 [==============================] - 26s 55ms/step - loss: 0.0043 - accuracy: 0.9989\n",
            "Epoch 23/50\n",
            "469/469 [==============================] - 26s 55ms/step - loss: 0.0086 - accuracy: 0.9971\n",
            "Epoch 24/50\n",
            "469/469 [==============================] - 26s 55ms/step - loss: 0.0037 - accuracy: 0.9989\n",
            "Epoch 25/50\n",
            "469/469 [==============================] - 26s 55ms/step - loss: 0.0028 - accuracy: 0.9992\n",
            "Epoch 26/50\n",
            "469/469 [==============================] - 26s 55ms/step - loss: 0.0064 - accuracy: 0.9980\n",
            "Epoch 27/50\n",
            "469/469 [==============================] - 26s 55ms/step - loss: 0.0044 - accuracy: 0.9985\n",
            "Epoch 28/50\n",
            "469/469 [==============================] - 25s 53ms/step - loss: 0.0042 - accuracy: 0.9988\n",
            "Epoch 29/50\n",
            "469/469 [==============================] - 26s 54ms/step - loss: 0.0017 - accuracy: 0.9996\n",
            "Epoch 30/50\n",
            "469/469 [==============================] - 26s 55ms/step - loss: 7.3709e-04 - accuracy: 0.9999\n",
            "Epoch 31/50\n",
            "469/469 [==============================] - 26s 55ms/step - loss: 0.0011 - accuracy: 0.9998\n",
            "Epoch 32/50\n",
            "469/469 [==============================] - 26s 55ms/step - loss: 0.0110 - accuracy: 0.9965\n",
            "Epoch 33/50\n",
            "469/469 [==============================] - 26s 55ms/step - loss: 0.0058 - accuracy: 0.9981\n",
            "Epoch 34/50\n",
            "469/469 [==============================] - 26s 55ms/step - loss: 0.0013 - accuracy: 0.9997\n",
            "Epoch 35/50\n",
            "469/469 [==============================] - 26s 55ms/step - loss: 0.0020 - accuracy: 0.9995\n",
            "Epoch 36/50\n",
            "469/469 [==============================] - 26s 55ms/step - loss: 0.0039 - accuracy: 0.9988\n",
            "Epoch 37/50\n",
            "469/469 [==============================] - 26s 55ms/step - loss: 0.0035 - accuracy: 0.9989\n",
            "Epoch 38/50\n",
            "469/469 [==============================] - 25s 53ms/step - loss: 0.0011 - accuracy: 0.9998\n",
            "Epoch 39/50\n",
            "469/469 [==============================] - 26s 55ms/step - loss: 0.0018 - accuracy: 0.9996\n",
            "Epoch 40/50\n",
            "469/469 [==============================] - 26s 55ms/step - loss: 0.0056 - accuracy: 0.9983\n",
            "Epoch 41/50\n",
            "469/469 [==============================] - 26s 55ms/step - loss: 0.0056 - accuracy: 0.9983\n",
            "Epoch 42/50\n",
            "469/469 [==============================] - 26s 55ms/step - loss: 0.0023 - accuracy: 0.9993\n",
            "Epoch 43/50\n",
            "469/469 [==============================] - 26s 55ms/step - loss: 0.0010 - accuracy: 0.9997\n",
            "Epoch 44/50\n",
            "469/469 [==============================] - 26s 55ms/step - loss: 2.1971e-04 - accuracy: 1.0000\n",
            "Epoch 45/50\n",
            "469/469 [==============================] - 26s 55ms/step - loss: 1.1392e-04 - accuracy: 1.0000\n",
            "Epoch 46/50\n",
            "469/469 [==============================] - 26s 55ms/step - loss: 9.0546e-05 - accuracy: 1.0000\n",
            "Epoch 47/50\n",
            "469/469 [==============================] - 25s 53ms/step - loss: 7.4698e-05 - accuracy: 1.0000\n",
            "Epoch 48/50\n",
            "469/469 [==============================] - 25s 53ms/step - loss: 6.3446e-05 - accuracy: 1.0000\n",
            "Epoch 49/50\n",
            "469/469 [==============================] - 26s 55ms/step - loss: 5.3859e-05 - accuracy: 1.0000\n",
            "Epoch 50/50\n",
            "469/469 [==============================] - 26s 55ms/step - loss: 4.5511e-05 - accuracy: 1.0000\n"
          ]
        }
      ]
    },
    {
      "cell_type": "markdown",
      "source": [
        "#Testing the model"
      ],
      "metadata": {
        "id": "R6R5aRwe4u98"
      }
    },
    {
      "cell_type": "code",
      "source": [
        "loss, acc = lenet.evaluate(x_test, y_test)\n",
        "print('ACCURACY: ', acc)"
      ],
      "metadata": {
        "colab": {
          "base_uri": "https://localhost:8080/"
        },
        "id": "UpixyiAs2Z6k",
        "outputId": "39167cfc-f3bf-4940-afa1-8febae99e2c6"
      },
      "execution_count": 11,
      "outputs": [
        {
          "output_type": "stream",
          "name": "stdout",
          "text": [
            "313/313 [==============================] - 3s 10ms/step - loss: 0.0470 - accuracy: 0.9893\n",
            "ACCURACY:  0.989300012588501\n"
          ]
        }
      ]
    },
    {
      "cell_type": "markdown",
      "source": [
        "#One Example"
      ],
      "metadata": {
        "id": "wPG95n9h85sz"
      }
    },
    {
      "cell_type": "code",
      "source": [
        "y_pred = model.predict(x_test)\n",
        "y_pred_classes = np.argmax(y_pred, axis=1)\n",
        "print(y_pred)\n",
        "print(y_pred_classes)"
      ],
      "metadata": {
        "id": "bd0xOBB-fEeu",
        "colab": {
          "base_uri": "https://localhost:8080/"
        },
        "outputId": "269a9b46-6392-47ed-ba8d-8b6864f83746"
      },
      "execution_count": 12,
      "outputs": [
        {
          "output_type": "stream",
          "name": "stdout",
          "text": [
            "313/313 [==============================] - 3s 8ms/step\n",
            "[[7.01250961e-13 1.94664857e-11 1.18986244e-11 ... 9.99999940e-01\n",
            "  9.38568071e-15 2.41965076e-11]\n",
            " [1.79222370e-09 1.80279454e-08 9.99999940e-01 ... 1.94227392e-13\n",
            "  2.90055452e-10 8.99034417e-16]\n",
            " [2.22748018e-11 9.99999940e-01 3.28127803e-10 ... 2.58367716e-10\n",
            "  3.46483642e-09 7.30430731e-15]\n",
            " ...\n",
            " [1.64328270e-16 8.24126462e-11 4.77811367e-13 ... 1.02890336e-08\n",
            "  6.77956447e-09 4.78965478e-10]\n",
            " [1.51214774e-09 1.28714574e-12 2.65864228e-14 ... 3.36570134e-14\n",
            "  1.92682393e-07 9.21221606e-12]\n",
            " [9.46255661e-12 2.06055268e-12 1.38256221e-11 ... 1.56562934e-15\n",
            "  6.49729659e-10 1.96982475e-14]]\n",
            "[7 2 1 ... 4 5 6]\n"
          ]
        }
      ]
    },
    {
      "cell_type": "code",
      "source": [
        "# Visualize for one example\n",
        "random_idx = np.random.choice(len(x_test))\n",
        "x_sample = x_test[random_idx]\n",
        "y_true = np.argmax(y_test, axis=1)\n",
        "y_sample_true = y_true[random_idx]\n",
        "y_sample_pred_class = y_pred_classes[random_idx]\n",
        "\n",
        "pt.title(\"Predicted: {}, True: {}\".format(y_sample_pred_class, y_sample_true), fontsize=16)\n",
        "pt.imshow(x_sample.reshape(28, 28), cmap='gray')"
      ],
      "metadata": {
        "id": "DcC1nTAsfHOS",
        "colab": {
          "base_uri": "https://localhost:8080/",
          "height": 472
        },
        "outputId": "369ddfac-bc5f-4d3c-e948-904a68551ecd"
      },
      "execution_count": 13,
      "outputs": [
        {
          "output_type": "execute_result",
          "data": {
            "text/plain": [
              "<matplotlib.image.AxesImage at 0x7f5d7730cb20>"
            ]
          },
          "metadata": {},
          "execution_count": 13
        },
        {
          "output_type": "display_data",
          "data": {
            "text/plain": [
              "<Figure size 640x480 with 1 Axes>"
            ],
            "image/png": "[encoded data removed]"
          },
          "metadata": {}
        }
      ]
    },
    {
      "cell_type": "markdown",
      "source": [
        "#Confusion Matrix"
      ],
      "metadata": {
        "id": "9QbCScqi83M6"
      }
    },
    {
      "cell_type": "code",
      "source": [
        "confusion_mtx = confusion_matrix(y_true, y_pred_classes)\n",
        "\n",
        "# Plot\n",
        "fig, ax = pt.subplots(figsize=(15,10))\n",
        "ax = sns.heatmap(confusion_mtx, annot=True, fmt='d', ax=ax, cmap=\"Blues\")\n",
        "ax.set_xlabel('Predicted Label')\n",
        "ax.set_ylabel('True Label')\n",
        "ax.set_title('Confusion Matrix');"
      ],
      "metadata": {
        "id": "0E65FJhzfKaY",
        "colab": {
          "base_uri": "https://localhost:8080/",
          "height": 872
        },
        "outputId": "0d24b70d-41c4-4b1a-fa40-c6e6d435ff5a"
      },
      "execution_count": 14,
      "outputs": [
        {
          "output_type": "display_data",
          "data": {
            "text/plain": [
              "<Figure size 1500x1000 with 2 Axes>"
            ],
            "image/png": "[encoded data removed]"
          },
          "metadata": {}
        }
      ]
    },
    {
      "cell_type": "markdown",
      "source": [
        "#Tranformation/Reshaping into 28x28 pixel"
      ],
      "metadata": {
        "id": "drSYQLDC43Qa"
      }
    },
    {
      "cell_type": "code",
      "source": [
        "x_train = x_train.reshape(x_train.shape[0], 28, 28)\n",
        "print(\"Training Data \", x_train.shape, y_train.shape)\n",
        "x_test = x_test.reshape(x_test.shape[0], 28, 28)\n",
        "print(\"Testing Data \", x_train.shape, y_train.shape)"
      ],
      "metadata": {
        "colab": {
          "base_uri": "https://localhost:8080/"
        },
        "id": "zW8XfzZj2bW-",
        "outputId": "4b9fd82c-4dad-49b5-80e6-46c8c7bf0c0a"
      },
      "execution_count": 15,
      "outputs": [
        {
          "output_type": "stream",
          "name": "stdout",
          "text": [
            "Training Data  (60000, 28, 28) (60000, 10)\n",
            "Testing Data  (60000, 28, 28) (60000, 10)\n"
          ]
        }
      ]
    }
  ]
}