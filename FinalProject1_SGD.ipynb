{
  "nbformat": 4,
  "nbformat_minor": 0,
  "metadata": {
    "colab": {
      "provenance": []
    },
    "kernelspec": {
      "name": "python3",
      "display_name": "Python 3"
    },
    "language_info": {
      "name": "python"
    }
  },
  "cells": [
    {
      "cell_type": "markdown",
      "source": [
        "#Imports"
      ],
      "metadata": {
        "id": "wGqzSnFlw5Pp"
      }
    },
    {
      "cell_type": "code",
      "execution_count": 1,
      "metadata": {
        "id": "U_KbP4edwdBV"
      },
      "outputs": [],
      "source": [
        "import matplotlib as plt\n",
        "import matplotlib.pyplot as pt\n",
        "import tensorflow as tf\n",
        "import numpy as np\n",
        "from sklearn.metrics import confusion_matrix\n",
        "import seaborn as sns"
      ]
    },
    {
      "cell_type": "markdown",
      "source": [
        "#Loading the dataset"
      ],
      "metadata": {
        "id": "2UYy0jNpw7uP"
      }
    },
    {
      "cell_type": "code",
      "source": [
        "mnist = tf.keras.datasets.mnist\n",
        "(x_train, y_train), (x_test, y_test) = mnist.load_data()\n",
        "rows, cols = 28, 28"
      ],
      "metadata": {
        "id": "JvZgzjJvw9Cr"
      },
      "execution_count": 2,
      "outputs": []
    },
    {
      "cell_type": "code",
      "source": [
        "x_train = x_train.reshape(x_train.shape[0], rows, cols, 1)\n",
        "x_test = x_test.reshape(x_test.shape[0], rows, cols, 1)\n",
        "input_shape = (rows, cols, 1)"
      ],
      "metadata": {
        "id": "ilRUR0bmxeaS"
      },
      "execution_count": 3,
      "outputs": []
    },
    {
      "cell_type": "markdown",
      "source": [
        "#Visualising the Dataset"
      ],
      "metadata": {
        "id": "zp_qXArqaxg5"
      }
    },
    {
      "cell_type": "code",
      "source": [
        "num_classes = 10\n",
        "f, ax = pt.subplots(1, num_classes, figsize=(20,20))\n",
        "\n",
        "for i in range(0, num_classes):\n",
        "  sample = x_train[y_train == i][0]\n",
        "  ax[i].imshow(sample, cmap='gray')\n",
        "  ax[i].set_title(\"Label: {}\".format(i), fontsize=16)"
      ],
      "metadata": {
        "colab": {
          "base_uri": "https://localhost:8080/",
          "height": 181
        },
        "id": "u6ULNXnta8Th",
        "outputId": "d26a6732-d278-4b16-e663-18a77e404700"
      },
      "execution_count": 4,
      "outputs": [
        {
          "output_type": "display_data",
          "data": {
            "text/plain": [
              "<Figure size 2000x2000 with 10 Axes>"
            ],
            "image/png": "[encoded data removed]"
          },
          "metadata": {}
        }
      ]
    },
    {
      "cell_type": "markdown",
      "source": [
        "#Preprocessing the data"
      ],
      "metadata": {
        "id": "_aKPRxgfxoOX"
      }
    },
    {
      "cell_type": "markdown",
      "source": [
        "a). Normalization"
      ],
      "metadata": {
        "id": "-JjQiE4nx4kC"
      }
    },
    {
      "cell_type": "code",
      "source": [
        "x_train = x_train.astype('float32')\n",
        "x_test = x_test.astype('float32')\n",
        "x_train = x_train / 255.0\n",
        "x_test = x_test / 255.0"
      ],
      "metadata": {
        "id": "-7qaqAp_xjyH"
      },
      "execution_count": 5,
      "outputs": []
    },
    {
      "cell_type": "markdown",
      "source": [
        "b). One hot encoding"
      ],
      "metadata": {
        "id": "2yb-zzBhx7Mx"
      }
    },
    {
      "cell_type": "code",
      "source": [
        "y_train = tf.keras.utils.to_categorical(y_train, 10)\n",
        "y_test = tf.keras.utils.to_categorical(y_test, 10)"
      ],
      "metadata": {
        "id": "Ijkl2zWCx8ni"
      },
      "execution_count": 6,
      "outputs": []
    },
    {
      "cell_type": "markdown",
      "source": [
        "#Building the model"
      ],
      "metadata": {
        "id": "qLhCAKpayT8t"
      }
    },
    {
      "cell_type": "code",
      "source": [
        "model = tf.keras.Sequential()\n",
        "\n",
        "def build_lenet(input_shape):\n",
        "\n",
        "  #Convolution layer 1\n",
        "  model.add(tf.keras.layers.Conv2D(filters = 6,\n",
        "                                   kernel_size = (5,5),\n",
        "                                   strides = (1,1),\n",
        "                                   activation = 'tanh',\n",
        "                                   input_shape = input_shape))\n",
        "  \n",
        "  #Subsampling layer 1\n",
        "  model.add(tf.keras.layers.AveragePooling2D(pool_size = (2,2),\n",
        "                                             strides = (2,2)))\n",
        "  \n",
        "  #Convolution layer 2\n",
        "  model.add(tf.keras.layers.Conv2D(filters = 16,\n",
        "                                   kernel_size = (5,5),\n",
        "                                   strides = (1,1),\n",
        "                                   activation = 'tanh'))\n",
        "  \n",
        "  #Subsampling layer 2\n",
        "  model.add(tf.keras.layers.AveragePooling2D(pool_size = (2,2),\n",
        "                                             strides = (2,2)))\n",
        "  \n",
        "  #Flattening layer\n",
        "  model.add(tf.keras.layers.Flatten())\n",
        "\n",
        "  #Fully connected layer 1\n",
        "  model.add(tf.keras.layers.Dense(units = 120, activation = 'tanh'))\n",
        "\n",
        "  #Flattening layer\n",
        "  model.add(tf.keras.layers.Flatten())\n",
        "\n",
        "  #Fully connected layer 2\n",
        "  model.add(tf.keras.layers.Dense(units = 84, activation = 'tanh'))\n",
        "\n",
        "  #Output layer\n",
        "  model.add(tf.keras.layers.Dense( units = 10, activation = 'softmax'))\n",
        "\n",
        "  #Compile the model\n",
        "  model.compile(loss = 'categorical_crossentropy', optimizer = tf.keras.optimizers.SGD(learning_rate = 0.01), metrics = ['accuracy'])\n",
        "\n",
        "  #Summarizing the model\n",
        "  model.summary()\n",
        "\n",
        "  return model"
      ],
      "metadata": {
        "id": "FM8aUGIpyRFJ"
      },
      "execution_count": 7,
      "outputs": []
    },
    {
      "cell_type": "code",
      "source": [
        "lenet = build_lenet(input_shape)"
      ],
      "metadata": {
        "colab": {
          "base_uri": "https://localhost:8080/"
        },
        "id": "vje_6wPn0uJB",
        "outputId": "016e5b24-e90b-48ab-af9a-37ad5d5c746c"
      },
      "execution_count": 8,
      "outputs": [
        {
          "output_type": "stream",
          "name": "stdout",
          "text": [
            "Model: \"sequential\"\n",
            "_________________________________________________________________\n",
            " Layer (type)                Output Shape              Param #   \n",
            "=================================================================\n",
            " conv2d (Conv2D)             (None, 24, 24, 6)         156       \n",
            "                                                                 \n",
            " average_pooling2d (AverageP  (None, 12, 12, 6)        0         \n",
            " ooling2D)                                                       \n",
            "                                                                 \n",
            " conv2d_1 (Conv2D)           (None, 8, 8, 16)          2416      \n",
            "                                                                 \n",
            " average_pooling2d_1 (Averag  (None, 4, 4, 16)         0         \n",
            " ePooling2D)                                                     \n",
            "                                                                 \n",
            " flatten (Flatten)           (None, 256)               0         \n",
            "                                                                 \n",
            " dense (Dense)               (None, 120)               30840     \n",
            "                                                                 \n",
            " flatten_1 (Flatten)         (None, 120)               0         \n",
            "                                                                 \n",
            " dense_1 (Dense)             (None, 84)                10164     \n",
            "                                                                 \n",
            " dense_2 (Dense)             (None, 10)                850       \n",
            "                                                                 \n",
            "=================================================================\n",
            "Total params: 44,426\n",
            "Trainable params: 44,426\n",
            "Non-trainable params: 0\n",
            "_________________________________________________________________\n"
          ]
        }
      ]
    },
    {
      "cell_type": "markdown",
      "source": [
        "#Training the model"
      ],
      "metadata": {
        "id": "KBOLuZgU16j3"
      }
    },
    {
      "cell_type": "code",
      "source": [
        "epochs = 50"
      ],
      "metadata": {
        "id": "0c6m3GB218BU"
      },
      "execution_count": 9,
      "outputs": []
    },
    {
      "cell_type": "code",
      "source": [
        "history = model.fit(x_train, y_train,\n",
        "                    epochs = epochs,\n",
        "                    batch_size = 128,\n",
        "                    verbose = 1)"
      ],
      "metadata": {
        "colab": {
          "base_uri": "https://localhost:8080/"
        },
        "id": "gJVP9YwX2I1E",
        "outputId": "5fd1a7c8-08d7-4a09-b39d-0fceca0b8993"
      },
      "execution_count": 10,
      "outputs": [
        {
          "output_type": "stream",
          "name": "stdout",
          "text": [
            "Epoch 1/50\n",
            "469/469 [==============================] - 26s 55ms/step - loss: 1.3731 - accuracy: 0.6169\n",
            "Epoch 2/50\n",
            "469/469 [==============================] - 26s 54ms/step - loss: 0.5406 - accuracy: 0.8621\n",
            "Epoch 3/50\n",
            "469/469 [==============================] - 28s 59ms/step - loss: 0.4069 - accuracy: 0.8890\n",
            "Epoch 4/50\n",
            "469/469 [==============================] - 26s 55ms/step - loss: 0.3465 - accuracy: 0.9027\n",
            "Epoch 5/50\n",
            "469/469 [==============================] - 26s 55ms/step - loss: 0.3075 - accuracy: 0.9122\n",
            "Epoch 6/50\n",
            "469/469 [==============================] - 26s 55ms/step - loss: 0.2777 - accuracy: 0.9207\n",
            "Epoch 7/50\n",
            "469/469 [==============================] - 26s 55ms/step - loss: 0.2536 - accuracy: 0.9266\n",
            "Epoch 8/50\n",
            "469/469 [==============================] - 25s 53ms/step - loss: 0.2333 - accuracy: 0.9322\n",
            "Epoch 9/50\n",
            "469/469 [==============================] - 25s 53ms/step - loss: 0.2157 - accuracy: 0.9367\n",
            "Epoch 10/50\n",
            "469/469 [==============================] - 26s 55ms/step - loss: 0.2004 - accuracy: 0.9414\n",
            "Epoch 11/50\n",
            "469/469 [==============================] - 26s 55ms/step - loss: 0.1869 - accuracy: 0.9452\n",
            "Epoch 12/50\n",
            "469/469 [==============================] - 26s 55ms/step - loss: 0.1750 - accuracy: 0.9490\n",
            "Epoch 13/50\n",
            "469/469 [==============================] - 26s 55ms/step - loss: 0.1645 - accuracy: 0.9519\n",
            "Epoch 14/50\n",
            "469/469 [==============================] - 26s 55ms/step - loss: 0.1550 - accuracy: 0.9547\n",
            "Epoch 15/50\n",
            "469/469 [==============================] - 26s 55ms/step - loss: 0.1467 - accuracy: 0.9568\n",
            "Epoch 16/50\n",
            "469/469 [==============================] - 26s 55ms/step - loss: 0.1392 - accuracy: 0.9592\n",
            "Epoch 17/50\n",
            "469/469 [==============================] - 28s 60ms/step - loss: 0.1324 - accuracy: 0.9610\n",
            "Epoch 18/50\n",
            "469/469 [==============================] - 26s 55ms/step - loss: 0.1264 - accuracy: 0.9631\n",
            "Epoch 19/50\n",
            "469/469 [==============================] - 25s 52ms/step - loss: 0.1208 - accuracy: 0.9643\n",
            "Epoch 20/50\n",
            "469/469 [==============================] - 25s 54ms/step - loss: 0.1160 - accuracy: 0.9656\n",
            "Epoch 21/50\n",
            "469/469 [==============================] - 26s 55ms/step - loss: 0.1114 - accuracy: 0.9671\n",
            "Epoch 22/50\n",
            "469/469 [==============================] - 26s 54ms/step - loss: 0.1073 - accuracy: 0.9685\n",
            "Epoch 23/50\n",
            "469/469 [==============================] - 25s 53ms/step - loss: 0.1035 - accuracy: 0.9700\n",
            "Epoch 24/50\n",
            "469/469 [==============================] - 25s 53ms/step - loss: 0.0999 - accuracy: 0.9707\n",
            "Epoch 25/50\n",
            "469/469 [==============================] - 25s 53ms/step - loss: 0.0966 - accuracy: 0.9715\n",
            "Epoch 26/50\n",
            "469/469 [==============================] - 25s 53ms/step - loss: 0.0937 - accuracy: 0.9728\n",
            "Epoch 27/50\n",
            "469/469 [==============================] - 25s 53ms/step - loss: 0.0906 - accuracy: 0.9736\n",
            "Epoch 28/50\n",
            "469/469 [==============================] - 25s 53ms/step - loss: 0.0881 - accuracy: 0.9743\n",
            "Epoch 29/50\n",
            "469/469 [==============================] - 25s 53ms/step - loss: 0.0857 - accuracy: 0.9751\n",
            "Epoch 30/50\n",
            "469/469 [==============================] - 25s 53ms/step - loss: 0.0834 - accuracy: 0.9760\n",
            "Epoch 31/50\n",
            "469/469 [==============================] - 25s 53ms/step - loss: 0.0812 - accuracy: 0.9765\n",
            "Epoch 32/50\n",
            "469/469 [==============================] - 25s 53ms/step - loss: 0.0793 - accuracy: 0.9769\n",
            "Epoch 33/50\n",
            "469/469 [==============================] - 25s 53ms/step - loss: 0.0773 - accuracy: 0.9779\n",
            "Epoch 34/50\n",
            "469/469 [==============================] - 25s 53ms/step - loss: 0.0755 - accuracy: 0.9785\n",
            "Epoch 35/50\n",
            "469/469 [==============================] - 25s 53ms/step - loss: 0.0736 - accuracy: 0.9790\n",
            "Epoch 36/50\n",
            "469/469 [==============================] - 25s 54ms/step - loss: 0.0721 - accuracy: 0.9791\n",
            "Epoch 37/50\n",
            "469/469 [==============================] - 25s 53ms/step - loss: 0.0706 - accuracy: 0.9795\n",
            "Epoch 38/50\n",
            "469/469 [==============================] - 25s 54ms/step - loss: 0.0691 - accuracy: 0.9799\n",
            "Epoch 39/50\n",
            "469/469 [==============================] - 25s 53ms/step - loss: 0.0677 - accuracy: 0.9805\n",
            "Epoch 40/50\n",
            "469/469 [==============================] - 25s 54ms/step - loss: 0.0662 - accuracy: 0.9809\n",
            "Epoch 41/50\n",
            "469/469 [==============================] - 25s 53ms/step - loss: 0.0651 - accuracy: 0.9809\n",
            "Epoch 42/50\n",
            "469/469 [==============================] - 25s 53ms/step - loss: 0.0637 - accuracy: 0.9818\n",
            "Epoch 43/50\n",
            "469/469 [==============================] - 25s 53ms/step - loss: 0.0626 - accuracy: 0.9819\n",
            "Epoch 44/50\n",
            "469/469 [==============================] - 25s 53ms/step - loss: 0.0615 - accuracy: 0.9822\n",
            "Epoch 45/50\n",
            "469/469 [==============================] - 25s 54ms/step - loss: 0.0603 - accuracy: 0.9828\n",
            "Epoch 46/50\n",
            "469/469 [==============================] - 25s 54ms/step - loss: 0.0594 - accuracy: 0.9830\n",
            "Epoch 47/50\n",
            "469/469 [==============================] - 25s 54ms/step - loss: 0.0584 - accuracy: 0.9829\n",
            "Epoch 48/50\n",
            "469/469 [==============================] - 25s 53ms/step - loss: 0.0574 - accuracy: 0.9835\n",
            "Epoch 49/50\n",
            "469/469 [==============================] - 25s 53ms/step - loss: 0.0565 - accuracy: 0.9837\n",
            "Epoch 50/50\n",
            "469/469 [==============================] - 25s 54ms/step - loss: 0.0556 - accuracy: 0.9841\n"
          ]
        }
      ]
    },
    {
      "cell_type": "markdown",
      "source": [
        "#Testing the model"
      ],
      "metadata": {
        "id": "R6R5aRwe4u98"
      }
    },
    {
      "cell_type": "code",
      "source": [
        "loss, acc = lenet.evaluate(x_test, y_test)\n",
        "print('ACCURACY: ', acc)"
      ],
      "metadata": {
        "colab": {
          "base_uri": "https://localhost:8080/"
        },
        "id": "UpixyiAs2Z6k",
        "outputId": "d5ba2a82-77a1-4411-d24c-35dc5ea58d29"
      },
      "execution_count": 11,
      "outputs": [
        {
          "output_type": "stream",
          "name": "stdout",
          "text": [
            "313/313 [==============================] - 3s 7ms/step - loss: 0.0536 - accuracy: 0.9825\n",
            "ACCURACY:  0.9825000166893005\n"
          ]
        }
      ]
    },
    {
      "cell_type": "code",
      "source": [
        "y_pred = model.predict(x_test)\n",
        "y_pred_classes = np.argmax(y_pred, axis=1)\n",
        "print(y_pred)\n",
        "print(y_pred_classes)"
      ],
      "metadata": {
        "id": "bd0xOBB-fEeu",
        "colab": {
          "base_uri": "https://localhost:8080/"
        },
        "outputId": "a91e4196-6c50-48cc-c239-ad8c99cd5ca1"
      },
      "execution_count": 12,
      "outputs": [
        {
          "output_type": "stream",
          "name": "stdout",
          "text": [
            "313/313 [==============================] - 2s 7ms/step\n",
            "[[6.46550234e-06 1.19042925e-05 6.73637987e-05 ... 9.99728322e-01\n",
            "  7.83647863e-07 3.44314321e-05]\n",
            " [9.34149284e-05 1.95509143e-04 9.99536812e-01 ... 1.47651434e-07\n",
            "  2.52030495e-05 2.97367855e-08]\n",
            " [5.77864557e-05 9.99136806e-01 1.35365990e-04 ... 8.01719434e-05\n",
            "  2.19497655e-04 1.46780758e-05]\n",
            " ...\n",
            " [2.02447336e-06 3.56211649e-06 3.64930827e-07 ... 8.06632670e-05\n",
            "  5.37688429e-05 1.05070874e-04]\n",
            " [4.01313191e-05 4.43914287e-05 2.44451303e-06 ... 3.71333340e-06\n",
            "  4.47710510e-03 2.42296483e-06]\n",
            " [8.05972086e-04 2.29484135e-06 9.94985458e-04 ... 1.80846655e-07\n",
            "  7.53116838e-05 9.15050532e-06]]\n",
            "[7 2 1 ... 4 5 6]\n"
          ]
        }
      ]
    },
    {
      "cell_type": "code",
      "source": [
        "# Visualize for one example\n",
        "random_idx = np.random.choice(len(x_test))\n",
        "x_sample = x_test[random_idx]\n",
        "y_true = np.argmax(y_test, axis=1)\n",
        "y_sample_true = y_true[random_idx]\n",
        "y_sample_pred_class = y_pred_classes[random_idx]\n",
        "\n",
        "pt.title(\"Predicted: {}, True: {}\".format(y_sample_pred_class, y_sample_true), fontsize=16)\n",
        "pt.imshow(x_sample.reshape(28, 28), cmap='gray')"
      ],
      "metadata": {
        "id": "DcC1nTAsfHOS",
        "colab": {
          "base_uri": "https://localhost:8080/",
          "height": 472
        },
        "outputId": "fe49e961-891f-4885-a416-c43893637088"
      },
      "execution_count": 13,
      "outputs": [
        {
          "output_type": "execute_result",
          "data": {
            "text/plain": [
              "<matplotlib.image.AxesImage at 0x7f02f30d9060>"
            ]
          },
          "metadata": {},
          "execution_count": 13
        },
        {
          "output_type": "display_data",
          "data": {
            "text/plain": [
              "<Figure size 640x480 with 1 Axes>"
            ],
            "image/png": "[encoded data removed]"
          },
          "metadata": {}
        }
      ]
    },
    {
      "cell_type": "code",
      "source": [
        "confusion_mtx = confusion_matrix(y_true, y_pred_classes)\n",
        "\n",
        "# Plot\n",
        "fig, ax = pt.subplots(figsize=(15,10))\n",
        "ax = sns.heatmap(confusion_mtx, annot=True, fmt='d', ax=ax, cmap=\"Blues\")\n",
        "ax.set_xlabel('Predicted Label')\n",
        "ax.set_ylabel('True Label')\n",
        "ax.set_title('Confusion Matrix');"
      ],
      "metadata": {
        "id": "0E65FJhzfKaY",
        "colab": {
          "base_uri": "https://localhost:8080/",
          "height": 872
        },
        "outputId": "ae8639c7-9575-4313-c54e-15511a9a8da9"
      },
      "execution_count": 14,
      "outputs": [
        {
          "output_type": "display_data",
          "data": {
            "text/plain": [
              "<Figure size 1500x1000 with 2 Axes>"
            ],
            "image/png": "[encoded data removed]"
          },
          "metadata": {}
        }
      ]
    },
    {
      "cell_type": "markdown",
      "source": [
        "#Tranformation/Reshaping into 28x28 pixel"
      ],
      "metadata": {
        "id": "drSYQLDC43Qa"
      }
    },
    {
      "cell_type": "code",
      "source": [
        "x_train = x_train.reshape(x_train.shape[0], 28, 28)\n",
        "print(\"Training Data \", x_train.shape, y_train.shape)\n",
        "x_test = x_test.reshape(x_test.shape[0], 28, 28)\n",
        "print(\"Testing Data \", x_train.shape, y_train.shape)"
      ],
      "metadata": {
        "colab": {
          "base_uri": "https://localhost:8080/"
        },
        "id": "zW8XfzZj2bW-",
        "outputId": "64672aa4-08b8-49f1-b593-f01d1d2356df"
      },
      "execution_count": 15,
      "outputs": [
        {
          "output_type": "stream",
          "name": "stdout",
          "text": [
            "Training Data  (60000, 28, 28) (60000, 10)\n",
            "Testing Data  (60000, 28, 28) (60000, 10)\n"
          ]
        }
      ]
    }
  ]
}