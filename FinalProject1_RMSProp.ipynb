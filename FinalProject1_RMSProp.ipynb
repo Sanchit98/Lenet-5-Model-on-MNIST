{
  "nbformat": 4,
  "nbformat_minor": 0,
  "metadata": {
    "colab": {
      "provenance": []
    },
    "kernelspec": {
      "name": "python3",
      "display_name": "Python 3"
    },
    "language_info": {
      "name": "python"
    }
  },
  "cells": [
    {
      "cell_type": "markdown",
      "source": [
        "#Imports"
      ],
      "metadata": {
        "id": "wGqzSnFlw5Pp"
      }
    },
    {
      "cell_type": "code",
      "execution_count": 1,
      "metadata": {
        "id": "U_KbP4edwdBV"
      },
      "outputs": [],
      "source": [
        "import matplotlib as plt\n",
        "import matplotlib.pyplot as pt\n",
        "import tensorflow as tf\n",
        "import numpy as np\n",
        "from sklearn.metrics import confusion_matrix\n",
        "import seaborn as sns"
      ]
    },
    {
      "cell_type": "markdown",
      "source": [
        "#Loading the dataset"
      ],
      "metadata": {
        "id": "2UYy0jNpw7uP"
      }
    },
    {
      "cell_type": "code",
      "source": [
        "mnist = tf.keras.datasets.mnist\n",
        "(x_train, y_train), (x_test, y_test) = mnist.load_data()\n",
        "rows, cols = 28, 28"
      ],
      "metadata": {
        "id": "JvZgzjJvw9Cr"
      },
      "execution_count": 2,
      "outputs": []
    },
    {
      "cell_type": "code",
      "source": [
        "x_train = x_train.reshape(x_train.shape[0], rows, cols, 1)\n",
        "x_test = x_test.reshape(x_test.shape[0], rows, cols, 1)\n",
        "input_shape = (rows, cols, 1)"
      ],
      "metadata": {
        "id": "ilRUR0bmxeaS"
      },
      "execution_count": 3,
      "outputs": []
    },
    {
      "cell_type": "markdown",
      "source": [
        "#Visualising the Dataset"
      ],
      "metadata": {
        "id": "zp_qXArqaxg5"
      }
    },
    {
      "cell_type": "code",
      "source": [
        "num_classes = 10\n",
        "f, ax = pt.subplots(1, num_classes, figsize=(20,20))\n",
        "\n",
        "for i in range(0, num_classes):\n",
        "  sample = x_train[y_train == i][0]\n",
        "  ax[i].imshow(sample, cmap='gray')\n",
        "  ax[i].set_title(\"Label: {}\".format(i), fontsize=16)"
      ],
      "metadata": {
        "colab": {
          "base_uri": "https://localhost:8080/",
          "height": 181
        },
        "id": "u6ULNXnta8Th",
        "outputId": "b7677fc2-9320-446a-878e-feaab995a648"
      },
      "execution_count": 4,
      "outputs": [
        {
          "output_type": "display_data",
          "data": {
            "text/plain": [
              "<Figure size 2000x2000 with 10 Axes>"
            ],
            "image/png": "[encoded data removed]"
          },
          "metadata": {}
        }
      ]
    },
    {
      "cell_type": "markdown",
      "source": [
        "#Preprocessing the data"
      ],
      "metadata": {
        "id": "_aKPRxgfxoOX"
      }
    },
    {
      "cell_type": "markdown",
      "source": [
        "a). Normalization"
      ],
      "metadata": {
        "id": "-JjQiE4nx4kC"
      }
    },
    {
      "cell_type": "code",
      "source": [
        "x_train = x_train.astype('float32')\n",
        "x_test = x_test.astype('float32')\n",
        "x_train = x_train / 255.0\n",
        "x_test = x_test / 255.0"
      ],
      "metadata": {
        "id": "-7qaqAp_xjyH"
      },
      "execution_count": 5,
      "outputs": []
    },
    {
      "cell_type": "markdown",
      "source": [
        "b). One hot encoding"
      ],
      "metadata": {
        "id": "2yb-zzBhx7Mx"
      }
    },
    {
      "cell_type": "code",
      "source": [
        "y_train = tf.keras.utils.to_categorical(y_train, 10)\n",
        "y_test = tf.keras.utils.to_categorical(y_test, 10)"
      ],
      "metadata": {
        "id": "Ijkl2zWCx8ni"
      },
      "execution_count": 6,
      "outputs": []
    },
    {
      "cell_type": "markdown",
      "source": [
        "#Building the model"
      ],
      "metadata": {
        "id": "qLhCAKpayT8t"
      }
    },
    {
      "cell_type": "code",
      "source": [
        "model = tf.keras.Sequential()\n",
        "\n",
        "def build_lenet(input_shape):\n",
        "\n",
        "  #Convolution layer 1\n",
        "  model.add(tf.keras.layers.Conv2D(filters = 6,\n",
        "                                   kernel_size = (5,5),\n",
        "                                   strides = (1,1),\n",
        "                                   activation = 'tanh',\n",
        "                                   input_shape = input_shape))\n",
        "  \n",
        "  #Subsampling layer 1\n",
        "  model.add(tf.keras.layers.AveragePooling2D(pool_size = (2,2),\n",
        "                                             strides = (2,2)))\n",
        "  \n",
        "  #Convolution layer 2\n",
        "  model.add(tf.keras.layers.Conv2D(filters = 16,\n",
        "                                   kernel_size = (5,5),\n",
        "                                   strides = (1,1),\n",
        "                                   activation = 'tanh'))\n",
        "  \n",
        "  #Subsampling layer 2\n",
        "  model.add(tf.keras.layers.AveragePooling2D(pool_size = (2,2),\n",
        "                                             strides = (2,2)))\n",
        "  \n",
        "  #Flattening layer\n",
        "  model.add(tf.keras.layers.Flatten())\n",
        "\n",
        "  #Fully connected layer 1\n",
        "  model.add(tf.keras.layers.Dense(units = 120, activation = 'tanh'))\n",
        "\n",
        "  #Flattening layer\n",
        "  model.add(tf.keras.layers.Flatten())\n",
        "\n",
        "  #Fully connected layer 2\n",
        "  model.add(tf.keras.layers.Dense(units = 84, activation = 'tanh'))\n",
        "\n",
        "  #Output layer\n",
        "  model.add(tf.keras.layers.Dense( units = 10, activation = 'softmax'))\n",
        "\n",
        "  #Compile the model\n",
        "  model.compile(loss = 'categorical_crossentropy', optimizer = tf.keras.optimizers.RMSprop(learning_rate = 0.001), metrics = ['accuracy'])\n",
        "\n",
        "  #Summarizing the model\n",
        "  model.summary()\n",
        "\n",
        "  return model"
      ],
      "metadata": {
        "id": "FM8aUGIpyRFJ"
      },
      "execution_count": 7,
      "outputs": []
    },
    {
      "cell_type": "code",
      "source": [
        "lenet = build_lenet(input_shape)"
      ],
      "metadata": {
        "colab": {
          "base_uri": "https://localhost:8080/"
        },
        "id": "vje_6wPn0uJB",
        "outputId": "28d9b9fa-017c-40a5-e100-5168d5ba958d"
      },
      "execution_count": 8,
      "outputs": [
        {
          "output_type": "stream",
          "name": "stdout",
          "text": [
            "Model: \"sequential\"\n",
            "_________________________________________________________________\n",
            " Layer (type)                Output Shape              Param #   \n",
            "=================================================================\n",
            " conv2d (Conv2D)             (None, 24, 24, 6)         156       \n",
            "                                                                 \n",
            " average_pooling2d (AverageP  (None, 12, 12, 6)        0         \n",
            " ooling2D)                                                       \n",
            "                                                                 \n",
            " conv2d_1 (Conv2D)           (None, 8, 8, 16)          2416      \n",
            "                                                                 \n",
            " average_pooling2d_1 (Averag  (None, 4, 4, 16)         0         \n",
            " ePooling2D)                                                     \n",
            "                                                                 \n",
            " flatten (Flatten)           (None, 256)               0         \n",
            "                                                                 \n",
            " dense (Dense)               (None, 120)               30840     \n",
            "                                                                 \n",
            " flatten_1 (Flatten)         (None, 120)               0         \n",
            "                                                                 \n",
            " dense_1 (Dense)             (None, 84)                10164     \n",
            "                                                                 \n",
            " dense_2 (Dense)             (None, 10)                850       \n",
            "                                                                 \n",
            "=================================================================\n",
            "Total params: 44,426\n",
            "Trainable params: 44,426\n",
            "Non-trainable params: 0\n",
            "_________________________________________________________________\n"
          ]
        }
      ]
    },
    {
      "cell_type": "markdown",
      "source": [
        "#Training the model"
      ],
      "metadata": {
        "id": "KBOLuZgU16j3"
      }
    },
    {
      "cell_type": "code",
      "source": [
        "epochs = 50"
      ],
      "metadata": {
        "id": "0c6m3GB218BU"
      },
      "execution_count": 9,
      "outputs": []
    },
    {
      "cell_type": "code",
      "source": [
        "history = model.fit(x_train, y_train,\n",
        "                    epochs = epochs,\n",
        "                    batch_size = 128,\n",
        "                    verbose = 1)"
      ],
      "metadata": {
        "colab": {
          "base_uri": "https://localhost:8080/"
        },
        "id": "gJVP9YwX2I1E",
        "outputId": "22641e24-67ad-4fc5-deed-5ad52b7c1258"
      },
      "execution_count": 10,
      "outputs": [
        {
          "output_type": "stream",
          "name": "stdout",
          "text": [
            "Epoch 1/50\n",
            "469/469 [==============================] - 28s 56ms/step - loss: 0.3238 - accuracy: 0.9069\n",
            "Epoch 2/50\n",
            "469/469 [==============================] - 26s 55ms/step - loss: 0.1261 - accuracy: 0.9617\n",
            "Epoch 3/50\n",
            "469/469 [==============================] - 26s 55ms/step - loss: 0.0832 - accuracy: 0.9742\n",
            "Epoch 4/50\n",
            "469/469 [==============================] - 27s 57ms/step - loss: 0.0618 - accuracy: 0.9809\n",
            "Epoch 5/50\n",
            "469/469 [==============================] - 26s 55ms/step - loss: 0.0493 - accuracy: 0.9848\n",
            "Epoch 6/50\n",
            "469/469 [==============================] - 26s 55ms/step - loss: 0.0415 - accuracy: 0.9868\n",
            "Epoch 7/50\n",
            "469/469 [==============================] - 26s 56ms/step - loss: 0.0339 - accuracy: 0.9894\n",
            "Epoch 8/50\n",
            "469/469 [==============================] - 27s 57ms/step - loss: 0.0292 - accuracy: 0.9907\n",
            "Epoch 9/50\n",
            "469/469 [==============================] - 26s 56ms/step - loss: 0.0246 - accuracy: 0.9916\n",
            "Epoch 10/50\n",
            "469/469 [==============================] - 26s 55ms/step - loss: 0.0209 - accuracy: 0.9934\n",
            "Epoch 11/50\n",
            "469/469 [==============================] - 26s 55ms/step - loss: 0.0174 - accuracy: 0.9942\n",
            "Epoch 12/50\n",
            "469/469 [==============================] - 25s 53ms/step - loss: 0.0149 - accuracy: 0.9953\n",
            "Epoch 13/50\n",
            "469/469 [==============================] - 26s 55ms/step - loss: 0.0125 - accuracy: 0.9961\n",
            "Epoch 14/50\n",
            "469/469 [==============================] - 26s 55ms/step - loss: 0.0110 - accuracy: 0.9966\n",
            "Epoch 15/50\n",
            "469/469 [==============================] - 26s 56ms/step - loss: 0.0093 - accuracy: 0.9972\n",
            "Epoch 16/50\n",
            "469/469 [==============================] - 26s 55ms/step - loss: 0.0079 - accuracy: 0.9976\n",
            "Epoch 17/50\n",
            "469/469 [==============================] - 26s 55ms/step - loss: 0.0072 - accuracy: 0.9979\n",
            "Epoch 18/50\n",
            "469/469 [==============================] - 26s 55ms/step - loss: 0.0057 - accuracy: 0.9985\n",
            "Epoch 19/50\n",
            "469/469 [==============================] - 26s 55ms/step - loss: 0.0050 - accuracy: 0.9984\n",
            "Epoch 20/50\n",
            "469/469 [==============================] - 26s 55ms/step - loss: 0.0044 - accuracy: 0.9987\n",
            "Epoch 21/50\n",
            "469/469 [==============================] - 25s 54ms/step - loss: 0.0043 - accuracy: 0.9989\n",
            "Epoch 22/50\n",
            "469/469 [==============================] - 25s 53ms/step - loss: 0.0032 - accuracy: 0.9991\n",
            "Epoch 23/50\n",
            "469/469 [==============================] - 26s 54ms/step - loss: 0.0029 - accuracy: 0.9993\n",
            "Epoch 24/50\n",
            "469/469 [==============================] - 26s 55ms/step - loss: 0.0021 - accuracy: 0.9995\n",
            "Epoch 25/50\n",
            "469/469 [==============================] - 26s 55ms/step - loss: 0.0019 - accuracy: 0.9995\n",
            "Epoch 26/50\n",
            "469/469 [==============================] - 26s 55ms/step - loss: 0.0015 - accuracy: 0.9996\n",
            "Epoch 27/50\n",
            "469/469 [==============================] - 26s 55ms/step - loss: 0.0014 - accuracy: 0.9996\n",
            "Epoch 28/50\n",
            "469/469 [==============================] - 26s 55ms/step - loss: 0.0011 - accuracy: 0.9998\n",
            "Epoch 29/50\n",
            "469/469 [==============================] - 26s 55ms/step - loss: 0.0010 - accuracy: 0.9997\n",
            "Epoch 30/50\n",
            "469/469 [==============================] - 26s 55ms/step - loss: 5.2112e-04 - accuracy: 0.9999\n",
            "Epoch 31/50\n",
            "469/469 [==============================] - 25s 54ms/step - loss: 4.5846e-04 - accuracy: 0.9999\n",
            "Epoch 32/50\n",
            "469/469 [==============================] - 25s 54ms/step - loss: 1.9448e-04 - accuracy: 1.0000\n",
            "Epoch 33/50\n",
            "469/469 [==============================] - 26s 55ms/step - loss: 1.7426e-04 - accuracy: 1.0000\n",
            "Epoch 34/50\n",
            "469/469 [==============================] - 26s 56ms/step - loss: 7.6891e-05 - accuracy: 1.0000\n",
            "Epoch 35/50\n",
            "469/469 [==============================] - 26s 55ms/step - loss: 5.2369e-05 - accuracy: 1.0000\n",
            "Epoch 36/50\n",
            "469/469 [==============================] - 26s 55ms/step - loss: 4.6677e-05 - accuracy: 1.0000\n",
            "Epoch 37/50\n",
            "469/469 [==============================] - 26s 55ms/step - loss: 4.3000e-05 - accuracy: 1.0000\n",
            "Epoch 38/50\n",
            "469/469 [==============================] - 26s 55ms/step - loss: 4.0330e-05 - accuracy: 1.0000\n",
            "Epoch 39/50\n",
            "469/469 [==============================] - 26s 55ms/step - loss: 3.7730e-05 - accuracy: 1.0000\n",
            "Epoch 40/50\n",
            "469/469 [==============================] - 26s 55ms/step - loss: 3.5733e-05 - accuracy: 1.0000\n",
            "Epoch 41/50\n",
            "469/469 [==============================] - 26s 55ms/step - loss: 3.3825e-05 - accuracy: 1.0000\n",
            "Epoch 42/50\n",
            "469/469 [==============================] - 25s 53ms/step - loss: 3.2294e-05 - accuracy: 1.0000\n",
            "Epoch 43/50\n",
            "469/469 [==============================] - 26s 55ms/step - loss: 3.0647e-05 - accuracy: 1.0000\n",
            "Epoch 44/50\n",
            "469/469 [==============================] - 26s 56ms/step - loss: 2.9359e-05 - accuracy: 1.0000\n",
            "Epoch 45/50\n",
            "469/469 [==============================] - 26s 55ms/step - loss: 2.8240e-05 - accuracy: 1.0000\n",
            "Epoch 46/50\n",
            "469/469 [==============================] - 26s 55ms/step - loss: 2.7260e-05 - accuracy: 1.0000\n",
            "Epoch 47/50\n",
            "469/469 [==============================] - 26s 56ms/step - loss: 2.6194e-05 - accuracy: 1.0000\n",
            "Epoch 48/50\n",
            "469/469 [==============================] - 26s 55ms/step - loss: 2.5259e-05 - accuracy: 1.0000\n",
            "Epoch 49/50\n",
            "469/469 [==============================] - 26s 56ms/step - loss: 2.4463e-05 - accuracy: 1.0000\n",
            "Epoch 50/50\n",
            "469/469 [==============================] - 26s 56ms/step - loss: 2.3628e-05 - accuracy: 1.0000\n"
          ]
        }
      ]
    },
    {
      "cell_type": "markdown",
      "source": [
        "#Testing the model"
      ],
      "metadata": {
        "id": "R6R5aRwe4u98"
      }
    },
    {
      "cell_type": "code",
      "source": [
        "loss, acc = lenet.evaluate(x_test, y_test)\n",
        "print('ACCURACY: ', acc)"
      ],
      "metadata": {
        "colab": {
          "base_uri": "https://localhost:8080/"
        },
        "id": "UpixyiAs2Z6k",
        "outputId": "3ffeb59c-4448-44a5-e35c-a17fe09fd5ba"
      },
      "execution_count": 11,
      "outputs": [
        {
          "output_type": "stream",
          "name": "stdout",
          "text": [
            "313/313 [==============================] - 3s 8ms/step - loss: 0.0562 - accuracy: 0.9893\n",
            "ACCURACY:  0.989300012588501\n"
          ]
        }
      ]
    },
    {
      "cell_type": "markdown",
      "source": [
        "#One Example"
      ],
      "metadata": {
        "id": "wPG95n9h85sz"
      }
    },
    {
      "cell_type": "code",
      "source": [
        "y_pred = model.predict(x_test)\n",
        "y_pred_classes = np.argmax(y_pred, axis=1)\n",
        "print(y_pred)\n",
        "print(y_pred_classes)"
      ],
      "metadata": {
        "id": "bd0xOBB-fEeu",
        "colab": {
          "base_uri": "https://localhost:8080/"
        },
        "outputId": "80b2296f-8c92-43e4-e0b5-bed1d800dc21"
      },
      "execution_count": 12,
      "outputs": [
        {
          "output_type": "stream",
          "name": "stdout",
          "text": [
            "313/313 [==============================] - 3s 10ms/step\n",
            "[[8.6334470e-14 1.6457866e-11 4.4449019e-12 ... 9.9999994e-01\n",
            "  2.5775020e-12 1.7894936e-10]\n",
            " [8.2474444e-11 4.4067427e-10 9.9999994e-01 ... 9.9368704e-17\n",
            "  1.5749901e-10 9.7709675e-14]\n",
            " [1.1041842e-13 9.9999994e-01 6.0786684e-13 ... 4.7585789e-09\n",
            "  2.1950732e-10 3.7682387e-13]\n",
            " ...\n",
            " [1.5099821e-15 6.9389902e-12 3.5052769e-13 ... 2.5769025e-12\n",
            "  8.3244418e-11 1.2488724e-10]\n",
            " [7.8264950e-10 1.7898843e-12 2.5733251e-13 ... 4.0001034e-11\n",
            "  3.4501237e-09 5.6724492e-14]\n",
            " [7.0422501e-10 6.7857935e-11 1.9418508e-10 ... 3.0041024e-16\n",
            "  4.4159054e-10 8.9972441e-15]]\n",
            "[7 2 1 ... 4 5 6]\n"
          ]
        }
      ]
    },
    {
      "cell_type": "code",
      "source": [
        "# Visualize for one example\n",
        "random_idx = np.random.choice(len(x_test))\n",
        "x_sample = x_test[random_idx]\n",
        "y_true = np.argmax(y_test, axis=1)\n",
        "y_sample_true = y_true[random_idx]\n",
        "y_sample_pred_class = y_pred_classes[random_idx]\n",
        "\n",
        "pt.title(\"Predicted: {}, True: {}\".format(y_sample_pred_class, y_sample_true), fontsize=16)\n",
        "pt.imshow(x_sample.reshape(28, 28), cmap='gray')"
      ],
      "metadata": {
        "id": "DcC1nTAsfHOS",
        "colab": {
          "base_uri": "https://localhost:8080/",
          "height": 472
        },
        "outputId": "785ef88c-261e-4c5a-a29a-064ae49bb607"
      },
      "execution_count": 13,
      "outputs": [
        {
          "output_type": "execute_result",
          "data": {
            "text/plain": [
              "<matplotlib.image.AxesImage at 0x7f77613eaa70>"
            ]
          },
          "metadata": {},
          "execution_count": 13
        },
        {
          "output_type": "display_data",
          "data": {
            "text/plain": [
              "<Figure size 640x480 with 1 Axes>"
            ],
            "image/png": "[encoded data removed]"
          },
          "metadata": {}
        }
      ]
    },
    {
      "cell_type": "markdown",
      "source": [
        "#Confusion Matrix"
      ],
      "metadata": {
        "id": "9QbCScqi83M6"
      }
    },
    {
      "cell_type": "code",
      "source": [
        "confusion_mtx = confusion_matrix(y_true, y_pred_classes)\n",
        "\n",
        "# Plot\n",
        "fig, ax = pt.subplots(figsize=(15,10))\n",
        "ax = sns.heatmap(confusion_mtx, annot=True, fmt='d', ax=ax, cmap=\"Blues\")\n",
        "ax.set_xlabel('Predicted Label')\n",
        "ax.set_ylabel('True Label')\n",
        "ax.set_title('Confusion Matrix');"
      ],
      "metadata": {
        "id": "0E65FJhzfKaY",
        "colab": {
          "base_uri": "https://localhost:8080/",
          "height": 872
        },
        "outputId": "28a2be29-12d8-4ee8-8079-d06fbfd253e9"
      },
      "execution_count": 14,
      "outputs": [
        {
          "output_type": "display_data",
          "data": {
            "text/plain": [
              "<Figure size 1500x1000 with 2 Axes>"
            ],
            "image/png": "[encoded data removed]"
          },
          "metadata": {}
        }
      ]
    },
    {
      "cell_type": "markdown",
      "source": [
        "#Tranformation/Reshaping into 28x28 pixel"
      ],
      "metadata": {
        "id": "drSYQLDC43Qa"
      }
    },
    {
      "cell_type": "code",
      "source": [
        "x_train = x_train.reshape(x_train.shape[0], 28, 28)\n",
        "print(\"Training Data \", x_train.shape, y_train.shape)\n",
        "x_test = x_test.reshape(x_test.shape[0], 28, 28)\n",
        "print(\"Testing Data \", x_train.shape, y_train.shape)"
      ],
      "metadata": {
        "colab": {
          "base_uri": "https://localhost:8080/"
        },
        "id": "zW8XfzZj2bW-",
        "outputId": "1a9066a8-561b-4187-a380-38254bc58041"
      },
      "execution_count": 15,
      "outputs": [
        {
          "output_type": "stream",
          "name": "stdout",
          "text": [
            "Training Data  (60000, 28, 28) (60000, 10)\n",
            "Testing Data  (60000, 28, 28) (60000, 10)\n"
          ]
        }
      ]
    }
  ]
}